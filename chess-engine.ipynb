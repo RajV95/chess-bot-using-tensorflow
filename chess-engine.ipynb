{
 "cells": [
  {
   "cell_type": "markdown",
   "metadata": {},
   "source": [
    "# Chess Engine With TensorFlow"
   ]
  },
  {
   "cell_type": "markdown",
   "metadata": {},
   "source": [
    "## DataSet"
   ]
  },
  {
   "cell_type": "code",
   "execution_count": 1,
   "metadata": {},
   "outputs": [
    {
     "data": {
      "text/plain": [
       "79"
      ]
     },
     "execution_count": 1,
     "metadata": {},
     "output_type": "execute_result"
    }
   ],
   "source": [
    "import os\n",
    "\n",
    "files = [file for file in os.listdir(\"data/pgn\") if file.endswith(\".pgn\")]\n",
    "\n",
    "len(files)"
   ]
  },
  {
   "cell_type": "code",
   "execution_count": 2,
   "metadata": {},
   "outputs": [],
   "source": [
    "from chess import pgn\n",
    "\n",
    "def load_pgn(file_path):\n",
    "    games = []\n",
    "    with open(file_path,'r') as pgn_file:\n",
    "        while True:\n",
    "            game = pgn.read_game(pgn_file)\n",
    "            if game is None:\n",
    "                break\n",
    "            games.append(game)\n",
    "    return games"
   ]
  },
  {
   "cell_type": "code",
   "execution_count": 4,
   "metadata": {},
   "outputs": [
    {
     "name": "stderr",
     "output_type": "stream",
     "text": [
      " 18%|█▊        | 14/79 [00:06<00:29,  2.20it/s]\n"
     ]
    }
   ],
   "source": [
    "from tqdm import tqdm\n",
    "\n",
    "LIMIT_OF_FILES = min(len(files),15)\n",
    "games = []\n",
    "\n",
    "i = 1\n",
    "for file in tqdm(files):\n",
    "    games.extend(load_pgn(f\"data/pgn/{file}\"))\n",
    "    if (i>=LIMIT_OF_FILES):\n",
    "        break\n",
    "    i += 1\n"
   ]
  },
  {
   "cell_type": "code",
   "execution_count": 5,
   "metadata": {},
   "outputs": [
    {
     "data": {
      "text/plain": [
       "2582"
      ]
     },
     "execution_count": 5,
     "metadata": {},
     "output_type": "execute_result"
    }
   ],
   "source": [
    "len(games)"
   ]
  },
  {
   "cell_type": "markdown",
   "metadata": {},
   "source": [
    "### Built & Train Model"
   ]
  },
  {
   "cell_type": "code",
   "execution_count": 6,
   "metadata": {},
   "outputs": [],
   "source": [
    "import numpy as np\n",
    "from chess import Board\n",
    "#import tensorflow as tf\n",
    "from tensorflow.keras.utils import to_categorical\n",
    "from tensorflow.keras.models import Sequential\n",
    "from tensorflow.keras.layers import Conv2D, Flatten, Dense\n",
    "from tensorflow.keras.optimizers import Adam\n"
   ]
  },
  {
   "cell_type": "code",
   "execution_count": 7,
   "metadata": {},
   "outputs": [],
   "source": [
    "def board_to_matrix(board: Board):\n",
    "    matrix = np.zeros((8,8,12))\n",
    "    piece_map = board.piece_map()\n",
    "    for square, piece in piece_map.items():\n",
    "        row, col = divmod(square,8)\n",
    "        piece_type = piece.piece_type - 1\n",
    "        piece_color = 0 if piece.color else 6\n",
    "        matrix[row,col,piece_type+piece_color] = 1\n",
    "    return matrix\n",
    "def create_input_for_nn(games):\n",
    "    X = []\n",
    "    y = []\n",
    "    for game in games:\n",
    "        board = game.board()\n",
    "        for move in game.mainline_moves():\n",
    "            X.append(board_to_matrix(board))\n",
    "            y.append(move.uci())\n",
    "            board.push(move)\n",
    "    return X,y\n",
    "def encode_moves(moves):\n",
    "    move_to_int = {move: idx for idx, move in enumerate(set(moves))}\n",
    "    return [move_to_int[move] for move in moves], move_to_int\n",
    "    "
   ]
  },
  {
   "cell_type": "code",
   "execution_count": 8,
   "metadata": {},
   "outputs": [],
   "source": [
    "X, y = create_input_for_nn(games)\n",
    "y, move_to_int = encode_moves(y)\n",
    "y = to_categorical(y,num_classes=len(move_to_int))\n",
    "X = np.array(X)\n"
   ]
  },
  {
   "cell_type": "code",
   "execution_count": 9,
   "metadata": {},
   "outputs": [
    {
     "name": "stderr",
     "output_type": "stream",
     "text": [
      "c:\\Users\\rajva\\AppData\\Local\\Programs\\Python\\Python312\\Lib\\site-packages\\keras\\src\\layers\\convolutional\\base_conv.py:107: UserWarning: Do not pass an `input_shape`/`input_dim` argument to a layer. When using Sequential models, prefer using an `Input(shape)` object as the first layer in the model instead.\n",
      "  super().__init__(activity_regularizer=activity_regularizer, **kwargs)\n"
     ]
    },
    {
     "data": {
      "text/html": [
       "<pre style=\"white-space:pre;overflow-x:auto;line-height:normal;font-family:Menlo,'DejaVu Sans Mono',consolas,'Courier New',monospace\"><span style=\"font-weight: bold\">Model: \"sequential\"</span>\n",
       "</pre>\n"
      ],
      "text/plain": [
       "\u001b[1mModel: \"sequential\"\u001b[0m\n"
      ]
     },
     "metadata": {},
     "output_type": "display_data"
    },
    {
     "data": {
      "text/html": [
       "<pre style=\"white-space:pre;overflow-x:auto;line-height:normal;font-family:Menlo,'DejaVu Sans Mono',consolas,'Courier New',monospace\">┏━━━━━━━━━━━━━━━━━━━━━━━━━━━━━━━━━┳━━━━━━━━━━━━━━━━━━━━━━━━┳━━━━━━━━━━━━━━━┓\n",
       "┃<span style=\"font-weight: bold\"> Layer (type)                    </span>┃<span style=\"font-weight: bold\"> Output Shape           </span>┃<span style=\"font-weight: bold\">       Param # </span>┃\n",
       "┡━━━━━━━━━━━━━━━━━━━━━━━━━━━━━━━━━╇━━━━━━━━━━━━━━━━━━━━━━━━╇━━━━━━━━━━━━━━━┩\n",
       "│ conv2d (<span style=\"color: #0087ff; text-decoration-color: #0087ff\">Conv2D</span>)                 │ (<span style=\"color: #00d7ff; text-decoration-color: #00d7ff\">None</span>, <span style=\"color: #00af00; text-decoration-color: #00af00\">6</span>, <span style=\"color: #00af00; text-decoration-color: #00af00\">6</span>, <span style=\"color: #00af00; text-decoration-color: #00af00\">64</span>)       │         <span style=\"color: #00af00; text-decoration-color: #00af00\">6,976</span> │\n",
       "├─────────────────────────────────┼────────────────────────┼───────────────┤\n",
       "│ conv2d_1 (<span style=\"color: #0087ff; text-decoration-color: #0087ff\">Conv2D</span>)               │ (<span style=\"color: #00d7ff; text-decoration-color: #00d7ff\">None</span>, <span style=\"color: #00af00; text-decoration-color: #00af00\">4</span>, <span style=\"color: #00af00; text-decoration-color: #00af00\">4</span>, <span style=\"color: #00af00; text-decoration-color: #00af00\">128</span>)      │        <span style=\"color: #00af00; text-decoration-color: #00af00\">73,856</span> │\n",
       "├─────────────────────────────────┼────────────────────────┼───────────────┤\n",
       "│ flatten (<span style=\"color: #0087ff; text-decoration-color: #0087ff\">Flatten</span>)               │ (<span style=\"color: #00d7ff; text-decoration-color: #00d7ff\">None</span>, <span style=\"color: #00af00; text-decoration-color: #00af00\">2048</span>)           │             <span style=\"color: #00af00; text-decoration-color: #00af00\">0</span> │\n",
       "├─────────────────────────────────┼────────────────────────┼───────────────┤\n",
       "│ dense (<span style=\"color: #0087ff; text-decoration-color: #0087ff\">Dense</span>)                   │ (<span style=\"color: #00d7ff; text-decoration-color: #00d7ff\">None</span>, <span style=\"color: #00af00; text-decoration-color: #00af00\">256</span>)            │       <span style=\"color: #00af00; text-decoration-color: #00af00\">524,544</span> │\n",
       "├─────────────────────────────────┼────────────────────────┼───────────────┤\n",
       "│ dense_1 (<span style=\"color: #0087ff; text-decoration-color: #0087ff\">Dense</span>)                 │ (<span style=\"color: #00d7ff; text-decoration-color: #00d7ff\">None</span>, <span style=\"color: #00af00; text-decoration-color: #00af00\">1831</span>)           │       <span style=\"color: #00af00; text-decoration-color: #00af00\">470,567</span> │\n",
       "└─────────────────────────────────┴────────────────────────┴───────────────┘\n",
       "</pre>\n"
      ],
      "text/plain": [
       "┏━━━━━━━━━━━━━━━━━━━━━━━━━━━━━━━━━┳━━━━━━━━━━━━━━━━━━━━━━━━┳━━━━━━━━━━━━━━━┓\n",
       "┃\u001b[1m \u001b[0m\u001b[1mLayer (type)                   \u001b[0m\u001b[1m \u001b[0m┃\u001b[1m \u001b[0m\u001b[1mOutput Shape          \u001b[0m\u001b[1m \u001b[0m┃\u001b[1m \u001b[0m\u001b[1m      Param #\u001b[0m\u001b[1m \u001b[0m┃\n",
       "┡━━━━━━━━━━━━━━━━━━━━━━━━━━━━━━━━━╇━━━━━━━━━━━━━━━━━━━━━━━━╇━━━━━━━━━━━━━━━┩\n",
       "│ conv2d (\u001b[38;5;33mConv2D\u001b[0m)                 │ (\u001b[38;5;45mNone\u001b[0m, \u001b[38;5;34m6\u001b[0m, \u001b[38;5;34m6\u001b[0m, \u001b[38;5;34m64\u001b[0m)       │         \u001b[38;5;34m6,976\u001b[0m │\n",
       "├─────────────────────────────────┼────────────────────────┼───────────────┤\n",
       "│ conv2d_1 (\u001b[38;5;33mConv2D\u001b[0m)               │ (\u001b[38;5;45mNone\u001b[0m, \u001b[38;5;34m4\u001b[0m, \u001b[38;5;34m4\u001b[0m, \u001b[38;5;34m128\u001b[0m)      │        \u001b[38;5;34m73,856\u001b[0m │\n",
       "├─────────────────────────────────┼────────────────────────┼───────────────┤\n",
       "│ flatten (\u001b[38;5;33mFlatten\u001b[0m)               │ (\u001b[38;5;45mNone\u001b[0m, \u001b[38;5;34m2048\u001b[0m)           │             \u001b[38;5;34m0\u001b[0m │\n",
       "├─────────────────────────────────┼────────────────────────┼───────────────┤\n",
       "│ dense (\u001b[38;5;33mDense\u001b[0m)                   │ (\u001b[38;5;45mNone\u001b[0m, \u001b[38;5;34m256\u001b[0m)            │       \u001b[38;5;34m524,544\u001b[0m │\n",
       "├─────────────────────────────────┼────────────────────────┼───────────────┤\n",
       "│ dense_1 (\u001b[38;5;33mDense\u001b[0m)                 │ (\u001b[38;5;45mNone\u001b[0m, \u001b[38;5;34m1831\u001b[0m)           │       \u001b[38;5;34m470,567\u001b[0m │\n",
       "└─────────────────────────────────┴────────────────────────┴───────────────┘\n"
      ]
     },
     "metadata": {},
     "output_type": "display_data"
    },
    {
     "data": {
      "text/html": [
       "<pre style=\"white-space:pre;overflow-x:auto;line-height:normal;font-family:Menlo,'DejaVu Sans Mono',consolas,'Courier New',monospace\"><span style=\"font-weight: bold\"> Total params: </span><span style=\"color: #00af00; text-decoration-color: #00af00\">1,075,943</span> (4.10 MB)\n",
       "</pre>\n"
      ],
      "text/plain": [
       "\u001b[1m Total params: \u001b[0m\u001b[38;5;34m1,075,943\u001b[0m (4.10 MB)\n"
      ]
     },
     "metadata": {},
     "output_type": "display_data"
    },
    {
     "data": {
      "text/html": [
       "<pre style=\"white-space:pre;overflow-x:auto;line-height:normal;font-family:Menlo,'DejaVu Sans Mono',consolas,'Courier New',monospace\"><span style=\"font-weight: bold\"> Trainable params: </span><span style=\"color: #00af00; text-decoration-color: #00af00\">1,075,943</span> (4.10 MB)\n",
       "</pre>\n"
      ],
      "text/plain": [
       "\u001b[1m Trainable params: \u001b[0m\u001b[38;5;34m1,075,943\u001b[0m (4.10 MB)\n"
      ]
     },
     "metadata": {},
     "output_type": "display_data"
    },
    {
     "data": {
      "text/html": [
       "<pre style=\"white-space:pre;overflow-x:auto;line-height:normal;font-family:Menlo,'DejaVu Sans Mono',consolas,'Courier New',monospace\"><span style=\"font-weight: bold\"> Non-trainable params: </span><span style=\"color: #00af00; text-decoration-color: #00af00\">0</span> (0.00 B)\n",
       "</pre>\n"
      ],
      "text/plain": [
       "\u001b[1m Non-trainable params: \u001b[0m\u001b[38;5;34m0\u001b[0m (0.00 B)\n"
      ]
     },
     "metadata": {},
     "output_type": "display_data"
    },
    {
     "name": "stdout",
     "output_type": "stream",
     "text": [
      "Epoch 1/30\n",
      "\u001b[1m3040/3040\u001b[0m \u001b[32m━━━━━━━━━━━━━━━━━━━━\u001b[0m\u001b[37m\u001b[0m \u001b[1m37s\u001b[0m 12ms/step - accuracy: 0.0511 - loss: 6.1938 - val_accuracy: 0.1209 - val_loss: 5.3236\n",
      "Epoch 2/30\n",
      "\u001b[1m3040/3040\u001b[0m \u001b[32m━━━━━━━━━━━━━━━━━━━━\u001b[0m\u001b[37m\u001b[0m \u001b[1m41s\u001b[0m 14ms/step - accuracy: 0.1373 - loss: 4.9997 - val_accuracy: 0.1408 - val_loss: 4.8432\n",
      "Epoch 3/30\n",
      "\u001b[1m3040/3040\u001b[0m \u001b[32m━━━━━━━━━━━━━━━━━━━━\u001b[0m\u001b[37m\u001b[0m \u001b[1m42s\u001b[0m 14ms/step - accuracy: 0.1738 - loss: 4.3209 - val_accuracy: 0.1514 - val_loss: 4.7114\n",
      "Epoch 4/30\n",
      "\u001b[1m3040/3040\u001b[0m \u001b[32m━━━━━━━━━━━━━━━━━━━━\u001b[0m\u001b[37m\u001b[0m \u001b[1m45s\u001b[0m 15ms/step - accuracy: 0.2019 - loss: 3.9032 - val_accuracy: 0.1579 - val_loss: 4.6508\n",
      "Epoch 5/30\n",
      "\u001b[1m3040/3040\u001b[0m \u001b[32m━━━━━━━━━━━━━━━━━━━━\u001b[0m\u001b[37m\u001b[0m \u001b[1m48s\u001b[0m 16ms/step - accuracy: 0.2317 - loss: 3.5805 - val_accuracy: 0.1583 - val_loss: 4.7224\n",
      "Epoch 6/30\n",
      "\u001b[1m3040/3040\u001b[0m \u001b[32m━━━━━━━━━━━━━━━━━━━━\u001b[0m\u001b[37m\u001b[0m \u001b[1m55s\u001b[0m 18ms/step - accuracy: 0.2600 - loss: 3.3416 - val_accuracy: 0.1596 - val_loss: 4.8042\n",
      "Epoch 7/30\n",
      "\u001b[1m3040/3040\u001b[0m \u001b[32m━━━━━━━━━━━━━━━━━━━━\u001b[0m\u001b[37m\u001b[0m \u001b[1m71s\u001b[0m 15ms/step - accuracy: 0.2865 - loss: 3.1386 - val_accuracy: 0.1576 - val_loss: 4.9584\n",
      "Epoch 8/30\n",
      "\u001b[1m3040/3040\u001b[0m \u001b[32m━━━━━━━━━━━━━━━━━━━━\u001b[0m\u001b[37m\u001b[0m \u001b[1m43s\u001b[0m 14ms/step - accuracy: 0.3092 - loss: 2.9748 - val_accuracy: 0.1550 - val_loss: 5.0666\n",
      "Epoch 9/30\n",
      "\u001b[1m3040/3040\u001b[0m \u001b[32m━━━━━━━━━━━━━━━━━━━━\u001b[0m\u001b[37m\u001b[0m \u001b[1m47s\u001b[0m 15ms/step - accuracy: 0.3309 - loss: 2.8382 - val_accuracy: 0.1512 - val_loss: 5.2088\n",
      "Epoch 10/30\n",
      "\u001b[1m3040/3040\u001b[0m \u001b[32m━━━━━━━━━━━━━━━━━━━━\u001b[0m\u001b[37m\u001b[0m \u001b[1m73s\u001b[0m 12ms/step - accuracy: 0.3548 - loss: 2.6967 - val_accuracy: 0.1564 - val_loss: 5.3609\n",
      "Epoch 11/30\n",
      "\u001b[1m3040/3040\u001b[0m \u001b[32m━━━━━━━━━━━━━━━━━━━━\u001b[0m\u001b[37m\u001b[0m \u001b[1m43s\u001b[0m 14ms/step - accuracy: 0.3720 - loss: 2.5889 - val_accuracy: 0.1546 - val_loss: 5.5145\n",
      "Epoch 12/30\n",
      "\u001b[1m3040/3040\u001b[0m \u001b[32m━━━━━━━━━━━━━━━━━━━━\u001b[0m\u001b[37m\u001b[0m \u001b[1m47s\u001b[0m 15ms/step - accuracy: 0.3911 - loss: 2.4862 - val_accuracy: 0.1558 - val_loss: 5.6767\n",
      "Epoch 13/30\n",
      "\u001b[1m3040/3040\u001b[0m \u001b[32m━━━━━━━━━━━━━━━━━━━━\u001b[0m\u001b[37m\u001b[0m \u001b[1m54s\u001b[0m 18ms/step - accuracy: 0.4066 - loss: 2.3935 - val_accuracy: 0.1490 - val_loss: 5.8843\n",
      "Epoch 14/30\n",
      "\u001b[1m3040/3040\u001b[0m \u001b[32m━━━━━━━━━━━━━━━━━━━━\u001b[0m\u001b[37m\u001b[0m \u001b[1m69s\u001b[0m 13ms/step - accuracy: 0.4211 - loss: 2.3156 - val_accuracy: 0.1509 - val_loss: 6.0929\n",
      "Epoch 15/30\n",
      "\u001b[1m3040/3040\u001b[0m \u001b[32m━━━━━━━━━━━━━━━━━━━━\u001b[0m\u001b[37m\u001b[0m \u001b[1m46s\u001b[0m 15ms/step - accuracy: 0.4367 - loss: 2.2318 - val_accuracy: 0.1477 - val_loss: 6.2302\n",
      "Epoch 16/30\n",
      "\u001b[1m3040/3040\u001b[0m \u001b[32m━━━━━━━━━━━━━━━━━━━━\u001b[0m\u001b[37m\u001b[0m \u001b[1m47s\u001b[0m 15ms/step - accuracy: 0.4488 - loss: 2.1644 - val_accuracy: 0.1499 - val_loss: 6.3880\n",
      "Epoch 17/30\n",
      "\u001b[1m3040/3040\u001b[0m \u001b[32m━━━━━━━━━━━━━━━━━━━━\u001b[0m\u001b[37m\u001b[0m \u001b[1m47s\u001b[0m 16ms/step - accuracy: 0.4605 - loss: 2.1071 - val_accuracy: 0.1486 - val_loss: 6.5827\n",
      "Epoch 18/30\n",
      "\u001b[1m3040/3040\u001b[0m \u001b[32m━━━━━━━━━━━━━━━━━━━━\u001b[0m\u001b[37m\u001b[0m \u001b[1m49s\u001b[0m 16ms/step - accuracy: 0.4753 - loss: 2.0328 - val_accuracy: 0.1471 - val_loss: 6.7534\n",
      "Epoch 19/30\n",
      "\u001b[1m3040/3040\u001b[0m \u001b[32m━━━━━━━━━━━━━━━━━━━━\u001b[0m\u001b[37m\u001b[0m \u001b[1m2273s\u001b[0m 748ms/step - accuracy: 0.4829 - loss: 1.9862 - val_accuracy: 0.1479 - val_loss: 6.9701\n",
      "Epoch 20/30\n",
      "\u001b[1m3040/3040\u001b[0m \u001b[32m━━━━━━━━━━━━━━━━━━━━\u001b[0m\u001b[37m\u001b[0m \u001b[1m57s\u001b[0m 19ms/step - accuracy: 0.4954 - loss: 1.9267 - val_accuracy: 0.1459 - val_loss: 7.1782\n",
      "Epoch 21/30\n",
      "\u001b[1m3040/3040\u001b[0m \u001b[32m━━━━━━━━━━━━━━━━━━━━\u001b[0m\u001b[37m\u001b[0m \u001b[1m76s\u001b[0m 25ms/step - accuracy: 0.5063 - loss: 1.8765 - val_accuracy: 0.1449 - val_loss: 7.3792\n",
      "Epoch 22/30\n",
      "\u001b[1m3040/3040\u001b[0m \u001b[32m━━━━━━━━━━━━━━━━━━━━\u001b[0m\u001b[37m\u001b[0m \u001b[1m119s\u001b[0m 39ms/step - accuracy: 0.5136 - loss: 1.8396 - val_accuracy: 0.1464 - val_loss: 7.5228\n",
      "Epoch 23/30\n",
      "\u001b[1m3040/3040\u001b[0m \u001b[32m━━━━━━━━━━━━━━━━━━━━\u001b[0m\u001b[37m\u001b[0m \u001b[1m318s\u001b[0m 97ms/step - accuracy: 0.5239 - loss: 1.7953 - val_accuracy: 0.1440 - val_loss: 7.7196\n",
      "Epoch 24/30\n",
      "\u001b[1m3040/3040\u001b[0m \u001b[32m━━━━━━━━━━━━━━━━━━━━\u001b[0m\u001b[37m\u001b[0m \u001b[1m288s\u001b[0m 95ms/step - accuracy: 0.5319 - loss: 1.7494 - val_accuracy: 0.1436 - val_loss: 8.0303\n",
      "Epoch 25/30\n",
      "\u001b[1m3040/3040\u001b[0m \u001b[32m━━━━━━━━━━━━━━━━━━━━\u001b[0m\u001b[37m\u001b[0m \u001b[1m283s\u001b[0m 93ms/step - accuracy: 0.5388 - loss: 1.7165 - val_accuracy: 0.1435 - val_loss: 8.1230\n",
      "Epoch 26/30\n",
      "\u001b[1m3040/3040\u001b[0m \u001b[32m━━━━━━━━━━━━━━━━━━━━\u001b[0m\u001b[37m\u001b[0m \u001b[1m73s\u001b[0m 24ms/step - accuracy: 0.5473 - loss: 1.6798 - val_accuracy: 0.1446 - val_loss: 8.3042\n",
      "Epoch 27/30\n",
      "\u001b[1m3040/3040\u001b[0m \u001b[32m━━━━━━━━━━━━━━━━━━━━\u001b[0m\u001b[37m\u001b[0m \u001b[1m28s\u001b[0m 9ms/step - accuracy: 0.5525 - loss: 1.6504 - val_accuracy: 0.1433 - val_loss: 8.6203\n",
      "Epoch 28/30\n",
      "\u001b[1m3040/3040\u001b[0m \u001b[32m━━━━━━━━━━━━━━━━━━━━\u001b[0m\u001b[37m\u001b[0m \u001b[1m29s\u001b[0m 10ms/step - accuracy: 0.5617 - loss: 1.6103 - val_accuracy: 0.1442 - val_loss: 8.7902\n",
      "Epoch 29/30\n",
      "\u001b[1m3040/3040\u001b[0m \u001b[32m━━━━━━━━━━━━━━━━━━━━\u001b[0m\u001b[37m\u001b[0m \u001b[1m59s\u001b[0m 19ms/step - accuracy: 0.5662 - loss: 1.5948 - val_accuracy: 0.1422 - val_loss: 9.0717\n",
      "Epoch 30/30\n",
      "\u001b[1m3040/3040\u001b[0m \u001b[32m━━━━━━━━━━━━━━━━━━━━\u001b[0m\u001b[37m\u001b[0m \u001b[1m31s\u001b[0m 10ms/step - accuracy: 0.5740 - loss: 1.5541 - val_accuracy: 0.1401 - val_loss: 9.1460\n"
     ]
    }
   ],
   "source": [
    "model = Sequential([\n",
    "    Conv2D(64,(3,3),activation='relu', input_shape = (8,8,12)),\n",
    "    Conv2D(128,(3,3),activation='relu'),\n",
    "    Flatten(),\n",
    "    Dense(256,activation='relu'),\n",
    "    Dense(len(move_to_int),activation='softmax')\n",
    "])\n",
    "model.compile(optimizer=Adam(),loss='categorical_crossentropy',metrics=['accuracy'])\n",
    "model.summary()\n",
    "model.fit(X,y,epochs=30,validation_split=0.1,batch_size=64)\n",
    "model.save(\"model/chess_model.keras\")"
   ]
  },
  {
   "cell_type": "code",
   "execution_count": 10,
   "metadata": {},
   "outputs": [],
   "source": [
    "from tensorflow.keras.models import load_model\n",
    "model = load_model(\"model/chess_model.keras\")\n"
   ]
  },
  {
   "cell_type": "code",
   "execution_count": 14,
   "metadata": {},
   "outputs": [],
   "source": [
    "int_to_move = dict(zip(move_to_int.values(),move_to_int.keys()))\n",
    "\n",
    "def predict_next_move(board):\n",
    "    board_matrix = board_to_matrix(board).reshape(1,8,8,12)\n",
    "    predictions = model.predict(board_matrix)[0]\n",
    "    legal_moves = list(board.legal_moves)\n",
    "    legal_moves_uci = [move.uci() for move in legal_moves]\n",
    "    sorted_indices = np.argsort(predictions)[::-1]\n",
    "    for move_index in sorted_indices:\n",
    "        move = int_to_move[move_index]\n",
    "        if move in legal_moves_uci:\n",
    "            return move\n",
    "    return None\n",
    "    "
   ]
  },
  {
   "cell_type": "code",
   "execution_count": 15,
   "metadata": {},
   "outputs": [],
   "source": [
    "board = Board()"
   ]
  },
  {
   "cell_type": "code",
   "execution_count": 246,
   "metadata": {},
   "outputs": [
    {
     "name": "stdout",
     "output_type": "stream",
     "text": [
      "Board before prediction:\n",
      "r . . . . . . .\n",
      ". . . . . . . .\n",
      "p . . . . . . .\n",
      ". . . . . . . .\n",
      ". . . . . . k .\n",
      ". . . . . . . .\n",
      ". . . . . . . K\n",
      ". R . . . . . .\n",
      "\u001b[1m1/1\u001b[0m \u001b[32m━━━━━━━━━━━━━━━━━━━━\u001b[0m\u001b[37m\u001b[0m \u001b[1m0s\u001b[0m 16ms/step\n",
      "\n",
      "Predicted move: g4h4\n",
      "Board after prediction:\n",
      "r . . . . . . .\n",
      ". . . . . . . .\n",
      "p . . . . . . .\n",
      ". . . . . . . .\n",
      ". . . . . . . k\n",
      ". . . . . . . .\n",
      ". . . . . . . K\n",
      ". R . . . . . .\n"
     ]
    }
   ],
   "source": [
    "print(\"Board before prediction:\")\n",
    "print(board)\n",
    "\n",
    "# Predict and make the move\n",
    "next_move = predict_next_move(board)\n",
    "board.push_uci(next_move)\n",
    "\n",
    "# Display the board after prediction\n",
    "print(\"\\nPredicted move:\", next_move)\n",
    "print(\"Board after prediction:\")\n",
    "print(board)"
   ]
  },
  {
   "cell_type": "code",
   "execution_count": 247,
   "metadata": {},
   "outputs": [
    {
     "name": "stdout",
     "output_type": "stream",
     "text": [
      "[Event \"?\"]\n",
      "[Site \"?\"]\n",
      "[Date \"????.??.??\"]\n",
      "[Round \"?\"]\n",
      "[White \"?\"]\n",
      "[Black \"?\"]\n",
      "[Result \"1/2-1/2\"]\n",
      "\n",
      "1. e4 e5 2. Nf3 Nc6 3. Bb5 a6 4. Ba4 Nf6 5. O-O Be7 6. Re1 b5 7. Bb3 d6 8. c3 O-O 9. h3 h6 10. d4 Re8 11. Nbd2 Bf8 12. Nf1 Bb7 13. Ng3 Na5 14. Bc2 Nc4 15. b3 Nb6 16. Bd2 g6 17. Qc1 Kh7 18. d5 Bg7 19. c4 Nxc4 20. bxc4 bxc4 21. Qb1 g5 22. Nf5 Nh5 23. Ne7 Nf4 24. a4 Rxe7 25. Bb3 cxb3 26. Nd4 Rc8 27. Nf3 Nxd5 28. exd5+ e4 29. Nd4 Re5 30. Qa2 f5 31. Qxb3 Qd7 32. g4 fxg4 33. Qc4 e3 34. Bxe3 Bxd5 35. Qxd5 Qe8 36. hxg4 Qf8 37. Re2 Qe8 38. Qxd6 cxd6 39. Rae1 Qd7 40. Rf1 Rc6 41. a5 d5 42. Rfe1 Rc5 43. Bd2 Qa4 44. f3 Rc7 45. Rf1 Rce7 46. Bxg5 Re4 47. Bh4 Ra7 48. fxe4 Qb4 49. g5 hxg5 50. Bg3 Qc5 51. Ref2 dxe4 52. Kg2 Qxd4 53. Re1 Qxf2+ 54. Bxf2 Kh6 55. Kg1 e3 56. Kf1 e2+ 57. Kxe2 Kg6 58. Ke3 Bf8 59. Rd1 Be7 60. Rd2 Kf5 61. Rb2 Bd8 62. Kd2 Kg6 63. Kd3 Kf5 64. Ke2 Kf4 65. Bg1 g4 66. Kd3 Kg5 67. Kc2 g3 68. Kc1 g2 69. Kb1 Kf6 70. Ra2 Kf5 71. Kb2 Bxa5 72. Kc2 Bb4 73. Kd1 Ba5 74. Rc2 Bb4 75. Rd2 Ba3 76. Ke1 Ke4 77. Ra2 Ke5 78. Ra1 Kf5 79. Bh2 Bb4+ 80. Kd1 Ba5 81. Ke2 g1=Q 82. Kf3 Bb6 83. Bg3 Qf2+ 84. Bxf2 Bc5 85. Kg2 Bd4 86. Kg3 Bxf2+ 87. Kxf2 Kf4 88. Kg2 Kg4 89. Kh2 Kh4 90. Kh1 Kh3 91. Rb1 Kh4 92. Kh2 Ra8 93. Kg2 Kg4 94. Kh2 Kh4 95. Kg2 Kg4 96. Kh2 Kh4 97. Kg2 Kg4 98. Kh2 Kh4 99. Kg2 Kg4 100. Kh2 Kh4 101. Kg2 Kg4 102. Kh2 Kh4 103. Kg2 Kg4 104. Kh2 Kh4 105. Kg2 Kg4 106. Kh2 Kh4 107. Kg2 Kg4 108. Kh2 Kh4 109. Kg2 Kg4 110. Kh2 Kh4 111. Kg2 Kg4 112. Kh2 Kh4 113. Kg2 Kg4 114. Kh2 Kh4 1/2-1/2\n"
     ]
    }
   ],
   "source": [
    "print(str(pgn.Game.from_board(board)))"
   ]
  }
 ],
 "metadata": {
  "kernelspec": {
   "display_name": "Python 3 (ipykernel)",
   "language": "python",
   "name": "python3"
  },
  "language_info": {
   "codemirror_mode": {
    "name": "ipython",
    "version": 3
   },
   "file_extension": ".py",
   "mimetype": "text/x-python",
   "name": "python",
   "nbconvert_exporter": "python",
   "pygments_lexer": "ipython3",
   "version": "3.12.3"
  }
 },
 "nbformat": 4,
 "nbformat_minor": 4
}
